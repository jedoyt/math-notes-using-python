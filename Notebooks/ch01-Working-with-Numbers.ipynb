{
 "cells": [
  {
   "cell_type": "markdown",
   "metadata": {},
   "source": [
    "# Chapter 1 - WORKING WITH NUMBERS"
   ]
  },
  {
   "cell_type": "markdown",
   "metadata": {},
   "source": [
    "## Basic Mathematical Operations\n",
    "The Python interactive shell is going to be our friend in this book. Start the Python 3 **IDLE** (or **Jupyter Notebook**) shell and say “hello” (see Figure 1-1) by typing `print('Hello IDLE')` and then pressing enter."
   ]
  },
  {
   "cell_type": "code",
   "execution_count": 12,
   "metadata": {},
   "outputs": [
    {
     "name": "stdout",
     "output_type": "stream",
     "text": [
      "Hello IDLE\n"
     ]
    }
   ],
   "source": [
    "print('Hello IDLE')"
   ]
  },
  {
   "cell_type": "markdown",
   "metadata": {},
   "source": [
    "Python can act like a glorified calculator, doing simple computations. Just type an expression and Python will evaluate it. After you press alt+enter(or shift+enter), the result appears immediately."
   ]
  },
  {
   "cell_type": "code",
   "execution_count": 13,
   "metadata": {},
   "outputs": [
    {
     "data": {
      "text/plain": [
       "3"
      ]
     },
     "execution_count": 13,
     "metadata": {},
     "output_type": "execute_result"
    }
   ],
   "source": [
    "1 + 2"
   ]
  },
  {
   "cell_type": "code",
   "execution_count": 14,
   "metadata": {},
   "outputs": [
    {
     "data": {
      "text/plain": [
       "6"
      ]
     },
     "execution_count": 14,
     "metadata": {},
     "output_type": "execute_result"
    }
   ],
   "source": [
    "3 * 2"
   ]
  },
  {
   "cell_type": "code",
   "execution_count": 15,
   "metadata": {},
   "outputs": [
    {
     "data": {
      "text/plain": [
       "1.5"
      ]
     },
     "execution_count": 15,
     "metadata": {},
     "output_type": "execute_result"
    }
   ],
   "source": [
    "3/2"
   ]
  },
  {
   "cell_type": "markdown",
   "metadata": {},
   "source": [
    "As you can see, when you ask Python to perform a division operation, it returns the fractional part of the number as well. If you want the result in the form of an integer, with any decimal values removed, you should use the floor division ( `//` ) operator:"
   ]
  },
  {
   "cell_type": "code",
   "execution_count": 16,
   "metadata": {},
   "outputs": [
    {
     "data": {
      "text/plain": [
       "1"
      ]
     },
     "execution_count": 16,
     "metadata": {},
     "output_type": "execute_result"
    }
   ],
   "source": [
    "3//2"
   ]
  },
  {
   "cell_type": "markdown",
   "metadata": {},
   "source": [
    "The floor division operator divides the first number by the second number and then rounds down the result to the next lowest integer. This becomes interesting when one of the numbers is negative. For example:"
   ]
  },
  {
   "cell_type": "code",
   "execution_count": 17,
   "metadata": {},
   "outputs": [
    {
     "data": {
      "text/plain": [
       "-2"
      ]
     },
     "execution_count": 17,
     "metadata": {},
     "output_type": "execute_result"
    }
   ],
   "source": [
    "-3 // 2"
   ]
  },
  {
   "cell_type": "markdown",
   "metadata": {},
   "source": [
    "The final result is the integer lower than the result of the division operation ( -3/2 = -1.5 , so the final result is -2 ). On the other hand, if you want just the remainder, you should use the modulo ( % ) operator:"
   ]
  },
  {
   "cell_type": "code",
   "execution_count": 19,
   "metadata": {},
   "outputs": [
    {
     "data": {
      "text/plain": [
       "1"
      ]
     },
     "execution_count": 19,
     "metadata": {},
     "output_type": "execute_result"
    }
   ],
   "source": [
    "-3 % 2"
   ]
  },
  {
   "cell_type": "code",
   "execution_count": 20,
   "metadata": {},
   "outputs": [
    {
     "data": {
      "text/plain": [
       "1"
      ]
     },
     "execution_count": 20,
     "metadata": {},
     "output_type": "execute_result"
    }
   ],
   "source": [
    "9 % 2"
   ]
  },
  {
   "cell_type": "markdown",
   "metadata": {},
   "source": [
    "You can calculate the power of numbers using the exponential ( `**`) operator. The examples below illustrate this:"
   ]
  },
  {
   "cell_type": "code",
   "execution_count": 21,
   "metadata": {},
   "outputs": [
    {
     "data": {
      "text/plain": [
       "4"
      ]
     },
     "execution_count": 21,
     "metadata": {},
     "output_type": "execute_result"
    }
   ],
   "source": [
    "2 ** 2"
   ]
  },
  {
   "cell_type": "code",
   "execution_count": 22,
   "metadata": {},
   "outputs": [
    {
     "data": {
      "text/plain": [
       "1024"
      ]
     },
     "execution_count": 22,
     "metadata": {},
     "output_type": "execute_result"
    }
   ],
   "source": [
    "2**10"
   ]
  },
  {
   "cell_type": "markdown",
   "metadata": {},
   "source": [
    "We can also use the exponential symbol to calculate powers less than 1.\n",
    "For example, the square root of a number n can be expressed as n 1/2 and the\n",
    "cube root as *n^1/3* :"
   ]
  },
  {
   "cell_type": "code",
   "execution_count": 23,
   "metadata": {},
   "outputs": [
    {
     "data": {
      "text/plain": [
       "2.0"
      ]
     },
     "execution_count": 23,
     "metadata": {},
     "output_type": "execute_result"
    }
   ],
   "source": [
    "8 ** (1/3)"
   ]
  },
  {
   "cell_type": "markdown",
   "metadata": {},
   "source": [
    "## Finding the Roots of a Quadratic Equation\n",
    "Generally expressed as $ax^2\\ +\\ bx\\ +\\ c\\ =\\ 0$, where $a$, $b$, and $c$ are constants. The quadratic formula for calculating the roots is given as follows:\n",
    "\n",
    "\\begin{align}\n",
    "{x_1}\\ =\\frac{-b\\ +\\ \\sqrt{b^2 - 4ac}}{2a}\n",
    "\\end{align}\n",
    "\n",
    "\n",
    "\\begin{align}\n",
    "{x_2}\\ =\\frac{-b\\ -\\ \\sqrt{b^2 - 4ac}}{2a}\n",
    "\\end{align}"
   ]
  },
  {
   "cell_type": "markdown",
   "metadata": {},
   "source": [
    "### Example: $x^2 + 2x + 1 = 0$"
   ]
  },
  {
   "cell_type": "code",
   "execution_count": 1,
   "metadata": {},
   "outputs": [],
   "source": [
    "a = 1\n",
    "b = 2\n",
    "c = 1"
   ]
  },
  {
   "cell_type": "markdown",
   "metadata": {},
   "source": [
    "Then, considering that both the formulas have the term $b^2 – 4ac$, we’ll define a new label with $D$, such that $D = \\sqrt{b^2 - 4ac}$"
   ]
  },
  {
   "cell_type": "code",
   "execution_count": 2,
   "metadata": {},
   "outputs": [],
   "source": [
    "D = (b**2 - 4*a*c)**0.5"
   ]
  },
  {
   "cell_type": "markdown",
   "metadata": {},
   "source": [
    "Now, we can write the expressions for evaluating $x_1$ and $x_2$:"
   ]
  },
  {
   "cell_type": "code",
   "execution_count": 6,
   "metadata": {},
   "outputs": [
    {
     "name": "stdout",
     "output_type": "stream",
     "text": [
      "x_1 root is -1.0\n",
      "x_2 root is -1.0\n"
     ]
    }
   ],
   "source": [
    "x_1 = (-b + D)/(2*a)\n",
    "x_2 = (-b - D)/(2*a)\n",
    "\n",
    "print('x_1 root is ' + str(x_1))\n",
    "print('x_2 root is ' + str(x_2))"
   ]
  },
  {
   "cell_type": "markdown",
   "metadata": {},
   "source": [
    "In this case, the values of both the roots are the same, and if you substitute that value into the equation $x^2 + 2x + 1$, the equation will evaluate to 0."
   ]
  },
  {
   "cell_type": "code",
   "execution_count": 7,
   "metadata": {},
   "outputs": [
    {
     "name": "stdout",
     "output_type": "stream",
     "text": [
      "y_1 is 0.0\n",
      "y_2 is 0.0\n"
     ]
    }
   ],
   "source": [
    "# Using x_1:\n",
    "y_1 = a*x_1**2 + b*x_1 + c\n",
    "\n",
    "# Using x_2:\n",
    "y_2 = a*x_2**2 + b*x_2 + c\n",
    "\n",
    "print('y_1 is ' + str(y_1))\n",
    "print('y_2 is ' + str(y_2))"
   ]
  },
  {
   "cell_type": "markdown",
   "metadata": {},
   "source": [
    "## Plotting Quadratic Equation: $3x^2 + 2x + 5 = 0$"
   ]
  },
  {
   "cell_type": "code",
   "execution_count": 21,
   "metadata": {},
   "outputs": [
    {
     "name": "stdout",
     "output_type": "stream",
     "text": [
      "Enter value for 'a' coefficient: 2\n",
      "Enter value for 'b' coefficient: 5\n",
      "Enter value for 'c' constant: 3\n",
      "Enter minimum value for x: 0\n",
      "Enter maximum value for x: 30\n"
     ]
    },
    {
     "data": {
      "image/png": "[encoded data removed]",
      "text/plain": [
       "<matplotlib.figure.Figure at 0x2ad19364b38>"
      ]
     },
     "metadata": {},
     "output_type": "display_data"
    },
    {
     "name": "stdout",
     "output_type": "stream",
     "text": [
      "min y at 3.0\n",
      "max y at 1830.0\n"
     ]
    }
   ],
   "source": [
    "%matplotlib inline\n",
    "import matplotlib.pyplot as plt\n",
    "\n",
    "a = float(input(\"Enter value for 'a' coefficient: \"))\n",
    "b = float(input(\"Enter value for 'b' coefficient: \"))\n",
    "c = float(input(\"Enter value for 'c' constant: \"))\n",
    "\n",
    "x_min = int(input('Enter minimum value for x: '))\n",
    "x_max = int(input('Enter maximum value for x: '))\n",
    "\n",
    "def plt_quad(x_min,x_max):\n",
    "    x_values = range(x_min,x_max)\n",
    "    y_values = []\n",
    "\n",
    "    for x in x_values:\n",
    "        y = a*x**2 + b*x + c\n",
    "        y_values.append(y)\n",
    "    \n",
    "    plt.plot(x_values, y_values)\n",
    "    plt.show()\n",
    "    \n",
    "    print('x_min: ' + x_min + '| y_min ' + str(y_values[0]))\n",
    "    print('x_max: ' + x_max + '| y_max ' + str(y_values[-1]))\n",
    "\n",
    "plt_quad(x_min,x_max)"
   ]
  },
  {
   "cell_type": "code",
   "execution_count": null,
   "metadata": {},
   "outputs": [],
   "source": []
  }
 ],
 "metadata": {
  "kernelspec": {
   "display_name": "Python 3",
   "language": "python",
   "name": "python3"
  },
  "language_info": {
   "codemirror_mode": {
    "name": "ipython",
    "version": 3
   },
   "file_extension": ".py",
   "mimetype": "text/x-python",
   "name": "python",
   "nbconvert_exporter": "python",
   "pygments_lexer": "ipython3",
   "version": "3.6.4"
  }
 },
 "nbformat": 4,
 "nbformat_minor": 2
}
